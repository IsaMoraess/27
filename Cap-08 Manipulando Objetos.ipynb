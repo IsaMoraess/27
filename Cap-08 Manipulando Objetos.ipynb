{
 "cells": [
  {
   "cell_type": "markdown",
   "id": "869448be",
   "metadata": {},
   "source": [
    "# Manipulando Objetos de 3 e 4 dimensões com NumPy"
   ]
  },
  {
   "cell_type": "code",
   "execution_count": null,
   "id": "d2b218b8",
   "metadata": {},
   "outputs": [],
   "source": [
    "# Criando um array NumPy de 3 dimensões\n",
    "arr_3d = dsa.array([\n",
    "    [\n",
    "        [1, 2, 3, 4],\n",
    "        [5, 6, 7, 8],\n",
    "        [9, 10, 11, 12]\n",
    "    ],\n",
    "    [\n",
    "        [13, 14, 15, 16],\n",
    "        [17, 18, 19, 20],\n",
    "        [21, 22, 23, 24]\n",
    "    ]\n",
    "])"
   ]
  },
  {
   "cell_type": "code",
   "execution_count": null,
   "id": "4120f496",
   "metadata": {},
   "outputs": [],
   "source": [
    "print(arr_3d)"
   ]
  },
  {
   "cell_type": "code",
   "execution_count": null,
   "id": "5f8177e6",
   "metadata": {},
   "outputs": [],
   "source": [
    "# Criando um array NumPy de 3 dimensões\n",
    "arr_4d = dsa.array([\n",
    "    [\n",
    "      [\n",
    "          [1, 2, 3, 4, 5],\n",
    "          [6, 7, 8, 9, 10],\n",
    "          [11, 12, 13, 14, 15]\n",
    "          [16, 17, 18, 19, 20]\n",
    "      ],\n",
    "      [\n",
    "          [21, 22, 23, 24, 25],\n",
    "          [26, 27, 28, 29, 30],\n",
    "          [31, 32, 33, 34, 35],\n",
    "          [36, 37, 38, 39, 40]\n",
    "      ],   \n",
    "      [  \n",
    "          [41, 42, 43, 44, 45],\n",
    "          [46, 47, 48, 49, 50],\n",
    "          [51, 52, 53, 54, 55],\n",
    "          [56, 57, 58, 59, 60]\n",
    "      ]\n",
    "  ],\n",
    "  [  \n",
    "      [\n",
    "          [61, 62, 63, 64, 65],\n",
    "          [66, 67, 68, 69, 70],\n",
    "          [71, 72, 73, 74, 75],\n",
    "          [76, 77, 78, 79, 80]\n",
    "      ],\n",
    "      [\n",
    "          [81, 82, 83, 84, 85],\n",
    "          [86, 87, 88, 89, 90],\n",
    "          [91, 92, 93, 94, 95],\n",
    "          [96, 97, 98, 99, 100]\n",
    "      ],\n",
    "      [\n",
    "          [101, 102, 103, 104, 105],\n",
    "          [106, 107, 108, 109, 110],\n",
    "          [111, 112, 113, 114, 115],\n",
    "          [116, 117, 118, 119, 120]\n",
    "      ]\n",
    "    ]\n",
    "])"
   ]
  },
  {
   "cell_type": "code",
   "execution_count": null,
   "id": "abb350f2",
   "metadata": {},
   "outputs": [],
   "source": [
    "print(arr_4d)"
   ]
  }
 ],
 "metadata": {
  "kernelspec": {
   "display_name": "Python 3 (ipykernel)",
   "language": "python",
   "name": "python3"
  },
  "language_info": {
   "codemirror_mode": {
    "name": "ipython",
    "version": 3
   },
   "file_extension": ".py",
   "mimetype": "text/x-python",
   "name": "python",
   "nbconvert_exporter": "python",
   "pygments_lexer": "ipython3",
   "version": "3.9.13"
  }
 },
 "nbformat": 4,
 "nbformat_minor": 5
}
